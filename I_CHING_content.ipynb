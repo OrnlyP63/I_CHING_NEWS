{
 "cells": [
  {
   "cell_type": "code",
   "execution_count": 1,
   "metadata": {},
   "outputs": [],
   "source": [
    "import pandas as pd\n",
    "import requests\n",
    "import bs4\n",
    "from bs4 import BeautifulSoup\n",
    "from PIL import Image\n",
    "import io"
   ]
  },
  {
   "cell_type": "code",
   "execution_count": 2,
   "metadata": {},
   "outputs": [
    {
     "data": {
      "text/plain": [
       "'<!DOCTYPE html>\\n<html id=\"XF\" lang=\"en-US\" dir=\"LTR\"\\n\\tdata-app=\"public\"\\n\\tdata-template=\"forum_view\"\\n'"
      ]
     },
     "execution_count": 2,
     "metadata": {},
     "output_type": "execute_result"
    }
   ],
   "source": [
    "#url = 'https://www.onlineclarity.co.uk/friends/index.php?forums/resonance-journal.66/'\n",
    "url = 'https://www.onlineclarity.co.uk/friends/index.php?forums/i-ching-news.8/'\n",
    "r = requests.get(url)\n",
    "r.text[:100]"
   ]
  },
  {
   "cell_type": "code",
   "execution_count": 3,
   "metadata": {},
   "outputs": [
    {
     "data": {
      "text/plain": [
       "bs4.BeautifulSoup"
      ]
     },
     "execution_count": 3,
     "metadata": {},
     "output_type": "execute_result"
    }
   ],
   "source": [
    "s = BeautifulSoup(r.text, 'lxml')\n",
    "type(s)"
   ]
  },
  {
   "cell_type": "code",
   "execution_count": 54,
   "metadata": {},
   "outputs": [],
   "source": [
    "title = s.find_all('div',{'class':'structItem-title'})\n",
    "user_name = s.find_all(class_='username')\n",
    "number_of_views = s.find_all('dl',{'class':'pairs pairs--justified structItem-minor'})\n",
    "number_of_comments = s.find_all('dl',{'class':'pairs pairs--justified'})\n",
    "date = s.find_all('time',{'class':'u-dt'})"
   ]
  },
  {
   "cell_type": "code",
   "execution_count": 8,
   "metadata": {},
   "outputs": [
    {
     "data": {
      "text/plain": [
       "48"
      ]
     },
     "execution_count": 8,
     "metadata": {},
     "output_type": "execute_result"
    }
   ],
   "source": [
    "len(user_name)"
   ]
  },
  {
   "cell_type": "code",
   "execution_count": 14,
   "metadata": {},
   "outputs": [
    {
     "data": {
      "text/plain": [
       "'hilary'"
      ]
     },
     "execution_count": 14,
     "metadata": {},
     "output_type": "execute_result"
    }
   ],
   "source": [
    "user_name[0].text"
   ]
  },
  {
   "cell_type": "code",
   "execution_count": 11,
   "metadata": {},
   "outputs": [
    {
     "data": {
      "text/plain": [
       "48"
      ]
     },
     "execution_count": 11,
     "metadata": {},
     "output_type": "execute_result"
    }
   ],
   "source": [
    "len(date)"
   ]
  },
  {
   "cell_type": "code",
   "execution_count": 7,
   "metadata": {},
   "outputs": [
    {
     "data": {
      "text/plain": [
       "24"
      ]
     },
     "execution_count": 7,
     "metadata": {},
     "output_type": "execute_result"
    }
   ],
   "source": [
    "len(title)"
   ]
  },
  {
   "cell_type": "code",
   "execution_count": 9,
   "metadata": {},
   "outputs": [
    {
     "data": {
      "text/plain": [
       "24"
      ]
     },
     "execution_count": 9,
     "metadata": {},
     "output_type": "execute_result"
    }
   ],
   "source": [
    "len(numebr_of_views)"
   ]
  },
  {
   "cell_type": "code",
   "execution_count": 10,
   "metadata": {},
   "outputs": [
    {
     "data": {
      "text/plain": [
       "24"
      ]
     },
     "execution_count": 10,
     "metadata": {},
     "output_type": "execute_result"
    }
   ],
   "source": [
    "len(number_of_comments)"
   ]
  },
  {
   "cell_type": "code",
   "execution_count": 64,
   "metadata": {},
   "outputs": [],
   "source": [
    "def get_text(ls):\n",
    "    return [i.text.replace('\\n','') for i in ls]\n",
    "\n",
    "def get_num_text(ls):\n",
    "    return [i.dd.text.replace('K','000') for i in ls]"
   ]
  },
  {
   "cell_type": "code",
   "execution_count": 65,
   "metadata": {},
   "outputs": [],
   "source": [
    "posted_user_name = []\n",
    "for i, elm in enumerate(user_name):\n",
    "    if i%2==0:\n",
    "        posted_user_name.append(elm.text)"
   ]
  },
  {
   "cell_type": "code",
   "execution_count": 66,
   "metadata": {},
   "outputs": [
    {
     "data": {
      "text/plain": [
       "24"
      ]
     },
     "execution_count": 66,
     "metadata": {},
     "output_type": "execute_result"
    }
   ],
   "source": [
    "len(posted_user_name)"
   ]
  },
  {
   "cell_type": "code",
   "execution_count": 67,
   "metadata": {},
   "outputs": [],
   "source": [
    "date_post = []\n",
    "date_active = []\n",
    "for i, elm in enumerate(date):\n",
    "    if i%2==0:\n",
    "        date_post.append(elm.text)\n",
    "    else:\n",
    "        date_active.append(elm.text)"
   ]
  },
  {
   "cell_type": "code",
   "execution_count": 68,
   "metadata": {},
   "outputs": [],
   "source": [
    "df = pd.DataFrame({'title':get_text(title), \n",
    "                   'user_name':posted_user_name, \n",
    "                   'number_of_views':get_num_text(number_of_views), \n",
    "                   'number_of_comments':get_num_text(number_of_comments), \n",
    "                   'date_post':date_post,\n",
    "                   'date_active':date_active})"
   ]
  },
  {
   "cell_type": "code",
   "execution_count": 69,
   "metadata": {},
   "outputs": [
    {
     "data": {
      "text/html": [
       "<div>\n",
       "<style scoped>\n",
       "    .dataframe tbody tr th:only-of-type {\n",
       "        vertical-align: middle;\n",
       "    }\n",
       "\n",
       "    .dataframe tbody tr th {\n",
       "        vertical-align: top;\n",
       "    }\n",
       "\n",
       "    .dataframe thead th {\n",
       "        text-align: right;\n",
       "    }\n",
       "</style>\n",
       "<table border=\"1\" class=\"dataframe\">\n",
       "  <thead>\n",
       "    <tr style=\"text-align: right;\">\n",
       "      <th></th>\n",
       "      <th>title</th>\n",
       "      <th>user_name</th>\n",
       "      <th>number_of_views</th>\n",
       "      <th>number_of_comments</th>\n",
       "      <th>date_post</th>\n",
       "      <th>date_active</th>\n",
       "    </tr>\n",
       "  </thead>\n",
       "  <tbody>\n",
       "    <tr>\n",
       "      <th>0</th>\n",
       "      <td>'Well Gatherings': weekly video chats for Wiki...</td>\n",
       "      <td>hilary</td>\n",
       "      <td>7000</td>\n",
       "      <td>116</td>\n",
       "      <td>Mar 30, 2020</td>\n",
       "      <td>Jan 7, 2021</td>\n",
       "    </tr>\n",
       "    <tr>\n",
       "      <th>1</th>\n",
       "      <td>I Ching Diagrams</td>\n",
       "      <td>tacrab</td>\n",
       "      <td>4000</td>\n",
       "      <td>4</td>\n",
       "      <td>Jul 5, 2018</td>\n",
       "      <td>Sep 14, 2020</td>\n",
       "    </tr>\n",
       "    <tr>\n",
       "      <th>2</th>\n",
       "      <td>Denis Mair's articles hosted at Clarity</td>\n",
       "      <td>hilary</td>\n",
       "      <td>5000</td>\n",
       "      <td>1</td>\n",
       "      <td>Dec 18, 2016</td>\n",
       "      <td>Jan 12, 2017</td>\n",
       "    </tr>\n",
       "    <tr>\n",
       "      <th>3</th>\n",
       "      <td>\"Times\" // The work of Ricardo Andreé</td>\n",
       "      <td>Sparhawk</td>\n",
       "      <td>35000</td>\n",
       "      <td>20</td>\n",
       "      <td>Aug 9, 2010</td>\n",
       "      <td>Jul 31, 2016</td>\n",
       "    </tr>\n",
       "    <tr>\n",
       "      <th>4</th>\n",
       "      <td>King Wen Sequence Explained</td>\n",
       "      <td>fkegan</td>\n",
       "      <td>10000</td>\n",
       "      <td>12</td>\n",
       "      <td>Mar 21, 2008</td>\n",
       "      <td>Tuesday at 8:14 PM</td>\n",
       "    </tr>\n",
       "    <tr>\n",
       "      <th>5</th>\n",
       "      <td>Print copy of Hatcher?</td>\n",
       "      <td>katrinakong</td>\n",
       "      <td>129</td>\n",
       "      <td>4</td>\n",
       "      <td>Dec 20, 2020</td>\n",
       "      <td>Jan 5, 2021</td>\n",
       "    </tr>\n",
       "    <tr>\n",
       "      <th>6</th>\n",
       "      <td>LiSe's blog</td>\n",
       "      <td>hilary</td>\n",
       "      <td>71</td>\n",
       "      <td>1</td>\n",
       "      <td>Dec 19, 2020</td>\n",
       "      <td>Dec 19, 2020</td>\n",
       "    </tr>\n",
       "    <tr>\n",
       "      <th>7</th>\n",
       "      <td>an artist's book about the I Ching titled \"Lat...</td>\n",
       "      <td>danadanadana</td>\n",
       "      <td>192</td>\n",
       "      <td>4</td>\n",
       "      <td>Nov 22, 2020</td>\n",
       "      <td>Dec 5, 2020</td>\n",
       "    </tr>\n",
       "    <tr>\n",
       "      <th>8</th>\n",
       "      <td>Yijing Movies</td>\n",
       "      <td>answeredquestions</td>\n",
       "      <td>5000</td>\n",
       "      <td>13</td>\n",
       "      <td>Mar 10, 2012</td>\n",
       "      <td>Dec 5, 2020</td>\n",
       "    </tr>\n",
       "    <tr>\n",
       "      <th>9</th>\n",
       "      <td>Essential oils and I Ching: webinar, Sunday 6t...</td>\n",
       "      <td>hilary</td>\n",
       "      <td>143</td>\n",
       "      <td>0</td>\n",
       "      <td>Dec 4, 2020</td>\n",
       "      <td>Dec 4, 2020</td>\n",
       "    </tr>\n",
       "    <tr>\n",
       "      <th>10</th>\n",
       "      <td>What now?</td>\n",
       "      <td>vanland</td>\n",
       "      <td>87</td>\n",
       "      <td>0</td>\n",
       "      <td>Nov 12, 2020</td>\n",
       "      <td>Nov 12, 2020</td>\n",
       "    </tr>\n",
       "    <tr>\n",
       "      <th>11</th>\n",
       "      <td>New blog index page (from the blog)</td>\n",
       "      <td>hilary</td>\n",
       "      <td>406</td>\n",
       "      <td>12</td>\n",
       "      <td>Sep 12, 2020</td>\n",
       "      <td>Oct 8, 2020</td>\n",
       "    </tr>\n",
       "    <tr>\n",
       "      <th>12</th>\n",
       "      <td>Tenth Wing--Zagua \"Miscellaneous Hexagrams\"</td>\n",
       "      <td>tacrab</td>\n",
       "      <td>1000</td>\n",
       "      <td>47</td>\n",
       "      <td>Sep 14, 2020</td>\n",
       "      <td>Oct 7, 2020</td>\n",
       "    </tr>\n",
       "    <tr>\n",
       "      <th>13</th>\n",
       "      <td>Site down</td>\n",
       "      <td>ctoz</td>\n",
       "      <td>133</td>\n",
       "      <td>2</td>\n",
       "      <td>Sep 27, 2020</td>\n",
       "      <td>Sep 27, 2020</td>\n",
       "    </tr>\n",
       "    <tr>\n",
       "      <th>14</th>\n",
       "      <td>New 8-Week Online Workshop ‘The Power of the H...</td>\n",
       "      <td>Freedda</td>\n",
       "      <td>296</td>\n",
       "      <td>2</td>\n",
       "      <td>May 31, 2020</td>\n",
       "      <td>Sep 11, 2020</td>\n",
       "    </tr>\n",
       "    <tr>\n",
       "      <th>15</th>\n",
       "      <td>New Resonance Journal version (from the blog)</td>\n",
       "      <td>hilary</td>\n",
       "      <td>233</td>\n",
       "      <td>0</td>\n",
       "      <td>Sep 8, 2020</td>\n",
       "      <td>Sep 8, 2020</td>\n",
       "    </tr>\n",
       "    <tr>\n",
       "      <th>16</th>\n",
       "      <td>Wei Tat's guiding light?</td>\n",
       "      <td>ctoz</td>\n",
       "      <td>529</td>\n",
       "      <td>4</td>\n",
       "      <td>May 29, 2020</td>\n",
       "      <td>Aug 29, 2020</td>\n",
       "    </tr>\n",
       "    <tr>\n",
       "      <th>17</th>\n",
       "      <td>Temple of singularity</td>\n",
       "      <td>regardie</td>\n",
       "      <td>162</td>\n",
       "      <td>0</td>\n",
       "      <td>Jul 22, 2020</td>\n",
       "      <td>Jul 22, 2020</td>\n",
       "    </tr>\n",
       "    <tr>\n",
       "      <th>18</th>\n",
       "      <td>New: Online workshop - The Mystery of the Text...</td>\n",
       "      <td>Freedda</td>\n",
       "      <td>242</td>\n",
       "      <td>0</td>\n",
       "      <td>Jun 15, 2020</td>\n",
       "      <td>Jun 15, 2020</td>\n",
       "    </tr>\n",
       "    <tr>\n",
       "      <th>19</th>\n",
       "      <td>8-Week Online Workshop ‘Power of the Hexagrams...</td>\n",
       "      <td>Freedda</td>\n",
       "      <td>666</td>\n",
       "      <td>3</td>\n",
       "      <td>Mar 29, 2020</td>\n",
       "      <td>May 31, 2020</td>\n",
       "    </tr>\n",
       "    <tr>\n",
       "      <th>20</th>\n",
       "      <td>March 22nd: ‘Connecting with Imagery’ Workshop...</td>\n",
       "      <td>hilary</td>\n",
       "      <td>381</td>\n",
       "      <td>1</td>\n",
       "      <td>Mar 12, 2020</td>\n",
       "      <td>Mar 13, 2020</td>\n",
       "    </tr>\n",
       "    <tr>\n",
       "      <th>21</th>\n",
       "      <td>Hilary Barrett's Foundations Class begins Marc...</td>\n",
       "      <td>Freedda</td>\n",
       "      <td>246</td>\n",
       "      <td>0</td>\n",
       "      <td>Mar 10, 2020</td>\n",
       "      <td>Mar 10, 2020</td>\n",
       "    </tr>\n",
       "    <tr>\n",
       "      <th>22</th>\n",
       "      <td>Xiangshu Yixue anyone?</td>\n",
       "      <td>AltVis8D</td>\n",
       "      <td>798</td>\n",
       "      <td>10</td>\n",
       "      <td>Feb 9, 2020</td>\n",
       "      <td>Mar 7, 2020</td>\n",
       "    </tr>\n",
       "    <tr>\n",
       "      <th>23</th>\n",
       "      <td>Sam Reifler's I Ching from 1974</td>\n",
       "      <td>TaoYinYang</td>\n",
       "      <td>715</td>\n",
       "      <td>6</td>\n",
       "      <td>Feb 1, 2020</td>\n",
       "      <td>Feb 3, 2020</td>\n",
       "    </tr>\n",
       "  </tbody>\n",
       "</table>\n",
       "</div>"
      ],
      "text/plain": [
       "                                                title          user_name  \\\n",
       "0   'Well Gatherings': weekly video chats for Wiki...             hilary   \n",
       "1                                    I Ching Diagrams             tacrab   \n",
       "2             Denis Mair's articles hosted at Clarity             hilary   \n",
       "3               \"Times\" // The work of Ricardo Andreé           Sparhawk   \n",
       "4                         King Wen Sequence Explained             fkegan   \n",
       "5                              Print copy of Hatcher?        katrinakong   \n",
       "6                                         LiSe's blog             hilary   \n",
       "7   an artist's book about the I Ching titled \"Lat...       danadanadana   \n",
       "8                                       Yijing Movies  answeredquestions   \n",
       "9   Essential oils and I Ching: webinar, Sunday 6t...             hilary   \n",
       "10                                          What now?            vanland   \n",
       "11                New blog index page (from the blog)             hilary   \n",
       "12        Tenth Wing--Zagua \"Miscellaneous Hexagrams\"             tacrab   \n",
       "13                                          Site down               ctoz   \n",
       "14  New 8-Week Online Workshop ‘The Power of the H...            Freedda   \n",
       "15      New Resonance Journal version (from the blog)             hilary   \n",
       "16                           Wei Tat's guiding light?               ctoz   \n",
       "17                              Temple of singularity           regardie   \n",
       "18  New: Online workshop - The Mystery of the Text...            Freedda   \n",
       "19  8-Week Online Workshop ‘Power of the Hexagrams...            Freedda   \n",
       "20  March 22nd: ‘Connecting with Imagery’ Workshop...             hilary   \n",
       "21  Hilary Barrett's Foundations Class begins Marc...            Freedda   \n",
       "22                             Xiangshu Yixue anyone?           AltVis8D   \n",
       "23                    Sam Reifler's I Ching from 1974         TaoYinYang   \n",
       "\n",
       "   number_of_views number_of_comments     date_post         date_active  \n",
       "0             7000                116  Mar 30, 2020         Jan 7, 2021  \n",
       "1             4000                  4   Jul 5, 2018        Sep 14, 2020  \n",
       "2             5000                  1  Dec 18, 2016        Jan 12, 2017  \n",
       "3            35000                 20   Aug 9, 2010        Jul 31, 2016  \n",
       "4            10000                 12  Mar 21, 2008  Tuesday at 8:14 PM  \n",
       "5              129                  4  Dec 20, 2020         Jan 5, 2021  \n",
       "6               71                  1  Dec 19, 2020        Dec 19, 2020  \n",
       "7              192                  4  Nov 22, 2020         Dec 5, 2020  \n",
       "8             5000                 13  Mar 10, 2012         Dec 5, 2020  \n",
       "9              143                  0   Dec 4, 2020         Dec 4, 2020  \n",
       "10              87                  0  Nov 12, 2020        Nov 12, 2020  \n",
       "11             406                 12  Sep 12, 2020         Oct 8, 2020  \n",
       "12            1000                 47  Sep 14, 2020         Oct 7, 2020  \n",
       "13             133                  2  Sep 27, 2020        Sep 27, 2020  \n",
       "14             296                  2  May 31, 2020        Sep 11, 2020  \n",
       "15             233                  0   Sep 8, 2020         Sep 8, 2020  \n",
       "16             529                  4  May 29, 2020        Aug 29, 2020  \n",
       "17             162                  0  Jul 22, 2020        Jul 22, 2020  \n",
       "18             242                  0  Jun 15, 2020        Jun 15, 2020  \n",
       "19             666                  3  Mar 29, 2020        May 31, 2020  \n",
       "20             381                  1  Mar 12, 2020        Mar 13, 2020  \n",
       "21             246                  0  Mar 10, 2020        Mar 10, 2020  \n",
       "22             798                 10   Feb 9, 2020         Mar 7, 2020  \n",
       "23             715                  6   Feb 1, 2020         Feb 3, 2020  "
      ]
     },
     "execution_count": 69,
     "metadata": {},
     "output_type": "execute_result"
    }
   ],
   "source": [
    "df"
   ]
  },
  {
   "cell_type": "code",
   "execution_count": 80,
   "metadata": {
    "collapsed": true,
    "jupyter": {
     "outputs_hidden": true
    }
   },
   "outputs": [
    {
     "ename": "ValueError",
     "evalue": "arrays must all be same length",
     "output_type": "error",
     "traceback": [
      "\u001b[1;31m---------------------------------------------------------------------------\u001b[0m",
      "\u001b[1;31mValueError\u001b[0m                                Traceback (most recent call last)",
      "\u001b[1;32m<ipython-input-80-fe8c2edf554d>\u001b[0m in \u001b[0;36m<module>\u001b[1;34m\u001b[0m\n\u001b[0;32m     14\u001b[0m                    \u001b[1;34m'number_of_comments'\u001b[0m\u001b[1;33m:\u001b[0m\u001b[0mget_num_text\u001b[0m\u001b[1;33m(\u001b[0m\u001b[0mnumber_of_comments\u001b[0m\u001b[1;33m)\u001b[0m\u001b[1;33m,\u001b[0m\u001b[1;33m\u001b[0m\u001b[1;33m\u001b[0m\u001b[0m\n\u001b[0;32m     15\u001b[0m                    \u001b[1;34m'date_post'\u001b[0m\u001b[1;33m:\u001b[0m\u001b[0mdate_post\u001b[0m\u001b[1;33m,\u001b[0m\u001b[1;33m\u001b[0m\u001b[1;33m\u001b[0m\u001b[0m\n\u001b[1;32m---> 16\u001b[1;33m                    'date_active':date_active})\n\u001b[0m",
      "\u001b[1;32m~\\Anaconda3\\lib\\site-packages\\pandas\\core\\frame.py\u001b[0m in \u001b[0;36m__init__\u001b[1;34m(self, data, index, columns, dtype, copy)\u001b[0m\n\u001b[0;32m    466\u001b[0m \u001b[1;33m\u001b[0m\u001b[0m\n\u001b[0;32m    467\u001b[0m         \u001b[1;32melif\u001b[0m \u001b[0misinstance\u001b[0m\u001b[1;33m(\u001b[0m\u001b[0mdata\u001b[0m\u001b[1;33m,\u001b[0m \u001b[0mdict\u001b[0m\u001b[1;33m)\u001b[0m\u001b[1;33m:\u001b[0m\u001b[1;33m\u001b[0m\u001b[1;33m\u001b[0m\u001b[0m\n\u001b[1;32m--> 468\u001b[1;33m             \u001b[0mmgr\u001b[0m \u001b[1;33m=\u001b[0m \u001b[0minit_dict\u001b[0m\u001b[1;33m(\u001b[0m\u001b[0mdata\u001b[0m\u001b[1;33m,\u001b[0m \u001b[0mindex\u001b[0m\u001b[1;33m,\u001b[0m \u001b[0mcolumns\u001b[0m\u001b[1;33m,\u001b[0m \u001b[0mdtype\u001b[0m\u001b[1;33m=\u001b[0m\u001b[0mdtype\u001b[0m\u001b[1;33m)\u001b[0m\u001b[1;33m\u001b[0m\u001b[1;33m\u001b[0m\u001b[0m\n\u001b[0m\u001b[0;32m    469\u001b[0m         \u001b[1;32melif\u001b[0m \u001b[0misinstance\u001b[0m\u001b[1;33m(\u001b[0m\u001b[0mdata\u001b[0m\u001b[1;33m,\u001b[0m \u001b[0mma\u001b[0m\u001b[1;33m.\u001b[0m\u001b[0mMaskedArray\u001b[0m\u001b[1;33m)\u001b[0m\u001b[1;33m:\u001b[0m\u001b[1;33m\u001b[0m\u001b[1;33m\u001b[0m\u001b[0m\n\u001b[0;32m    470\u001b[0m             \u001b[1;32mimport\u001b[0m \u001b[0mnumpy\u001b[0m\u001b[1;33m.\u001b[0m\u001b[0mma\u001b[0m\u001b[1;33m.\u001b[0m\u001b[0mmrecords\u001b[0m \u001b[1;32mas\u001b[0m \u001b[0mmrecords\u001b[0m\u001b[1;33m\u001b[0m\u001b[1;33m\u001b[0m\u001b[0m\n",
      "\u001b[1;32m~\\Anaconda3\\lib\\site-packages\\pandas\\core\\internals\\construction.py\u001b[0m in \u001b[0;36minit_dict\u001b[1;34m(data, index, columns, dtype)\u001b[0m\n\u001b[0;32m    281\u001b[0m             \u001b[0marr\u001b[0m \u001b[1;32mif\u001b[0m \u001b[1;32mnot\u001b[0m \u001b[0mis_datetime64tz_dtype\u001b[0m\u001b[1;33m(\u001b[0m\u001b[0marr\u001b[0m\u001b[1;33m)\u001b[0m \u001b[1;32melse\u001b[0m \u001b[0marr\u001b[0m\u001b[1;33m.\u001b[0m\u001b[0mcopy\u001b[0m\u001b[1;33m(\u001b[0m\u001b[1;33m)\u001b[0m \u001b[1;32mfor\u001b[0m \u001b[0marr\u001b[0m \u001b[1;32min\u001b[0m \u001b[0marrays\u001b[0m\u001b[1;33m\u001b[0m\u001b[1;33m\u001b[0m\u001b[0m\n\u001b[0;32m    282\u001b[0m         ]\n\u001b[1;32m--> 283\u001b[1;33m     \u001b[1;32mreturn\u001b[0m \u001b[0marrays_to_mgr\u001b[0m\u001b[1;33m(\u001b[0m\u001b[0marrays\u001b[0m\u001b[1;33m,\u001b[0m \u001b[0mdata_names\u001b[0m\u001b[1;33m,\u001b[0m \u001b[0mindex\u001b[0m\u001b[1;33m,\u001b[0m \u001b[0mcolumns\u001b[0m\u001b[1;33m,\u001b[0m \u001b[0mdtype\u001b[0m\u001b[1;33m=\u001b[0m\u001b[0mdtype\u001b[0m\u001b[1;33m)\u001b[0m\u001b[1;33m\u001b[0m\u001b[1;33m\u001b[0m\u001b[0m\n\u001b[0m\u001b[0;32m    284\u001b[0m \u001b[1;33m\u001b[0m\u001b[0m\n\u001b[0;32m    285\u001b[0m \u001b[1;33m\u001b[0m\u001b[0m\n",
      "\u001b[1;32m~\\Anaconda3\\lib\\site-packages\\pandas\\core\\internals\\construction.py\u001b[0m in \u001b[0;36marrays_to_mgr\u001b[1;34m(arrays, arr_names, index, columns, dtype, verify_integrity)\u001b[0m\n\u001b[0;32m     76\u001b[0m         \u001b[1;31m# figure out the index, if necessary\u001b[0m\u001b[1;33m\u001b[0m\u001b[1;33m\u001b[0m\u001b[1;33m\u001b[0m\u001b[0m\n\u001b[0;32m     77\u001b[0m         \u001b[1;32mif\u001b[0m \u001b[0mindex\u001b[0m \u001b[1;32mis\u001b[0m \u001b[1;32mNone\u001b[0m\u001b[1;33m:\u001b[0m\u001b[1;33m\u001b[0m\u001b[1;33m\u001b[0m\u001b[0m\n\u001b[1;32m---> 78\u001b[1;33m             \u001b[0mindex\u001b[0m \u001b[1;33m=\u001b[0m \u001b[0mextract_index\u001b[0m\u001b[1;33m(\u001b[0m\u001b[0marrays\u001b[0m\u001b[1;33m)\u001b[0m\u001b[1;33m\u001b[0m\u001b[1;33m\u001b[0m\u001b[0m\n\u001b[0m\u001b[0;32m     79\u001b[0m         \u001b[1;32melse\u001b[0m\u001b[1;33m:\u001b[0m\u001b[1;33m\u001b[0m\u001b[1;33m\u001b[0m\u001b[0m\n\u001b[0;32m     80\u001b[0m             \u001b[0mindex\u001b[0m \u001b[1;33m=\u001b[0m \u001b[0mensure_index\u001b[0m\u001b[1;33m(\u001b[0m\u001b[0mindex\u001b[0m\u001b[1;33m)\u001b[0m\u001b[1;33m\u001b[0m\u001b[1;33m\u001b[0m\u001b[0m\n",
      "\u001b[1;32m~\\Anaconda3\\lib\\site-packages\\pandas\\core\\internals\\construction.py\u001b[0m in \u001b[0;36mextract_index\u001b[1;34m(data)\u001b[0m\n\u001b[0;32m    395\u001b[0m             \u001b[0mlengths\u001b[0m \u001b[1;33m=\u001b[0m \u001b[0mlist\u001b[0m\u001b[1;33m(\u001b[0m\u001b[0mset\u001b[0m\u001b[1;33m(\u001b[0m\u001b[0mraw_lengths\u001b[0m\u001b[1;33m)\u001b[0m\u001b[1;33m)\u001b[0m\u001b[1;33m\u001b[0m\u001b[1;33m\u001b[0m\u001b[0m\n\u001b[0;32m    396\u001b[0m             \u001b[1;32mif\u001b[0m \u001b[0mlen\u001b[0m\u001b[1;33m(\u001b[0m\u001b[0mlengths\u001b[0m\u001b[1;33m)\u001b[0m \u001b[1;33m>\u001b[0m \u001b[1;36m1\u001b[0m\u001b[1;33m:\u001b[0m\u001b[1;33m\u001b[0m\u001b[1;33m\u001b[0m\u001b[0m\n\u001b[1;32m--> 397\u001b[1;33m                 \u001b[1;32mraise\u001b[0m \u001b[0mValueError\u001b[0m\u001b[1;33m(\u001b[0m\u001b[1;34m\"arrays must all be same length\"\u001b[0m\u001b[1;33m)\u001b[0m\u001b[1;33m\u001b[0m\u001b[1;33m\u001b[0m\u001b[0m\n\u001b[0m\u001b[0;32m    398\u001b[0m \u001b[1;33m\u001b[0m\u001b[0m\n\u001b[0;32m    399\u001b[0m             \u001b[1;32mif\u001b[0m \u001b[0mhave_dicts\u001b[0m\u001b[1;33m:\u001b[0m\u001b[1;33m\u001b[0m\u001b[1;33m\u001b[0m\u001b[0m\n",
      "\u001b[1;31mValueError\u001b[0m: arrays must all be same length"
     ]
    }
   ],
   "source": [
    "url = 'https://www.onlineclarity.co.uk/friends/index.php?forums/i-ching-news.8/page-2'\n",
    "r = requests.get(url)\n",
    "s = BeautifulSoup(r.text, 'lxml')\n",
    "\n",
    "title = s.find_all('div',{'class':'structItem-title'})\n",
    "user_name = s.find_all(class_='username')\n",
    "number_of_views = s.find_all('dl',{'class':'pairs pairs--justified structItem-minor'})\n",
    "number_of_comments = s.find_all('dl',{'class':'pairs pairs--justified'})\n",
    "date = s.find_all('time',{'class':'u-dt'})\n",
    "\n",
    "df = pd.DataFrame({'title':get_text(title), \n",
    "                   'user_name':posted_user_name, \n",
    "                   'number_of_views':get_num_text(number_of_views), \n",
    "                   'number_of_comments':get_num_text(number_of_comments), \n",
    "                   'date_post':date_post,\n",
    "                   'date_active':date_active})"
   ]
  },
  {
   "cell_type": "code",
   "execution_count": 81,
   "metadata": {},
   "outputs": [
    {
     "data": {
      "text/plain": [
       "20"
      ]
     },
     "execution_count": 81,
     "metadata": {},
     "output_type": "execute_result"
    }
   ],
   "source": [
    "len(title)"
   ]
  },
  {
   "cell_type": "code",
   "execution_count": 82,
   "metadata": {},
   "outputs": [
    {
     "data": {
      "text/plain": [
       "40"
      ]
     },
     "execution_count": 82,
     "metadata": {},
     "output_type": "execute_result"
    }
   ],
   "source": [
    "len(user_name)"
   ]
  },
  {
   "cell_type": "code",
   "execution_count": 83,
   "metadata": {},
   "outputs": [
    {
     "data": {
      "text/plain": [
       "20"
      ]
     },
     "execution_count": 83,
     "metadata": {},
     "output_type": "execute_result"
    }
   ],
   "source": [
    "len(number_of_comments)"
   ]
  },
  {
   "cell_type": "code",
   "execution_count": 84,
   "metadata": {},
   "outputs": [
    {
     "data": {
      "text/plain": [
       "20"
      ]
     },
     "execution_count": 84,
     "metadata": {},
     "output_type": "execute_result"
    }
   ],
   "source": [
    "len(number_of_views)"
   ]
  },
  {
   "cell_type": "code",
   "execution_count": 85,
   "metadata": {},
   "outputs": [
    {
     "data": {
      "text/plain": [
       "24"
      ]
     },
     "execution_count": 85,
     "metadata": {},
     "output_type": "execute_result"
    }
   ],
   "source": [
    "len(posted_user_name)"
   ]
  },
  {
   "cell_type": "code",
   "execution_count": 86,
   "metadata": {},
   "outputs": [],
   "source": [
    "def GET_DF(page):\n",
    "    url = 'https://www.onlineclarity.co.uk/friends/index.php?forums/i-ching-news.8/'+f'page-{page}'\n",
    "    r = requests.get(url)\n",
    "    s = BeautifulSoup(r.text, 'lxml')\n",
    "\n",
    "    title = s.find_all('div',{'class':'structItem-title'})\n",
    "    user_name = s.find_all(class_='username')\n",
    "    number_of_views = s.find_all('dl',{'class':'pairs pairs--justified structItem-minor'})\n",
    "    number_of_comments = s.find_all('dl',{'class':'pairs pairs--justified'})\n",
    "    date = s.find_all('time',{'class':'u-dt'})\n",
    "    \n",
    "    posted_user_name = []\n",
    "    for i, elm in enumerate(user_name):\n",
    "        if i%2==0:\n",
    "            posted_user_name.append(elm.text)\n",
    "            \n",
    "    date_post = []\n",
    "    date_active = []\n",
    "    for i, elm in enumerate(date):\n",
    "        if i%2==0:\n",
    "            date_post.append(elm.text)\n",
    "        else:\n",
    "            date_active.append(elm.text)\n",
    "    \n",
    "    df = pd.DataFrame({'title':get_text(title), \n",
    "                       'user_name':posted_user_name, \n",
    "                       'number_of_views':get_num_text(number_of_views), \n",
    "                       'number_of_comments':get_num_text(number_of_comments), \n",
    "                       'date_post':date_post,\n",
    "                       'date_active':date_active})\n",
    "    return df"
   ]
  },
  {
   "cell_type": "code",
   "execution_count": 91,
   "metadata": {},
   "outputs": [],
   "source": [
    "DF = pd.DataFrame()\n",
    "for p in range(1,25):\n",
    "    DF = DF.append(GET_DF(p))"
   ]
  },
  {
   "cell_type": "code",
   "execution_count": 92,
   "metadata": {},
   "outputs": [],
   "source": [
    "DF.to_csv('I_CHING.csv')"
   ]
  },
  {
   "cell_type": "code",
   "execution_count": null,
   "metadata": {},
   "outputs": [],
   "source": [
    "'''\n",
    "<a href=\"/friends/index.php?threads/i-ching-diagrams.26253/\" class=\"\" data-tp-primary=\"on\" data-xf-init=\"preview-tooltip\" data-preview-url=\"/friends/index.php?threads/i-ching-diagrams.26253/preview\" id=\"js-XFUniqueId10\">I Ching Diagrams</a>\n",
    "'''"
   ]
  },
  {
   "cell_type": "code",
   "execution_count": 9,
   "metadata": {},
   "outputs": [
    {
     "data": {
      "text/plain": [
       "'/friends/index.php?threads/well-gatherings-weekly-video-chats-for-wikiwing-and-change-circle.29787/'"
      ]
     },
     "execution_count": 9,
     "metadata": {},
     "output_type": "execute_result"
    }
   ],
   "source": [
    "s.find_all('div',{'class':\"structItem-title\"})[0].a['href']"
   ]
  },
  {
   "cell_type": "code",
   "execution_count": 10,
   "metadata": {},
   "outputs": [
    {
     "data": {
      "text/plain": [
       "['/friends/index.php?threads/well-gatherings-weekly-video-chats-for-wikiwing-and-change-circle.29787/',\n",
       " '/friends/index.php?threads/i-ching-diagrams.26253/',\n",
       " '/friends/index.php?threads/denis-mairs-articles-hosted-at-clarity.23743/',\n",
       " '/friends/index.php?threads/times-the-work-of-ricardo-andre%C3%A9.10933/',\n",
       " '/friends/index.php?threads/king-wen-sequence-explained.5423/',\n",
       " '/friends/index.php?threads/print-copy-of-hatcher.31463/',\n",
       " '/friends/index.php?threads/lises-blog.31458/',\n",
       " '/friends/index.php?threads/an-artists-book-about-the-i-ching-titled-later-heaven.30966/',\n",
       " '/friends/index.php?threads/yijing-movies.14536/',\n",
       " '/friends/index.php?threads/essential-oils-and-i-ching-webinar-sunday-6th-december.31413/',\n",
       " '/friends/index.php?threads/what-now.30916/',\n",
       " '/friends/index.php?threads/new-blog-index-page-from-the-blog.30637/',\n",
       " '/friends/index.php?threads/tenth-wing-zagua-miscellaneous-hexagrams.30650/',\n",
       " '/friends/index.php?threads/site-down.30701/',\n",
       " '/friends/index.php?threads/new-8-week-online-workshop-%E2%80%98the-power-of-the-hexagrams-starting-september-2020.30119/',\n",
       " '/friends/index.php?threads/new-resonance-journal-version-from-the-blog.30617/',\n",
       " '/friends/index.php?threads/wei-tats-guiding-light.30105/',\n",
       " '/friends/index.php?threads/temple-of-singularity.30405/',\n",
       " '/friends/index.php?threads/new-online-workshop-the-mystery-of-the-text-understanding-the-words-of-the-book-of-changes-starts-august-17.30216/',\n",
       " '/friends/index.php?threads/8-week-online-workshop-%E2%80%98power-of-the-hexagrams%E2%80%99-w-harmen-mesker-starting-june-2020.29781/',\n",
       " '/friends/index.php?threads/march-22nd-%E2%80%98connecting-with-imagery%E2%80%99-workshop-from-the-blog.29685/',\n",
       " '/friends/index.php?threads/hilary-barretts-foundations-class-begins-march-29th.29677/',\n",
       " '/friends/index.php?threads/xiangshu-yixue-anyone.29539/',\n",
       " '/friends/index.php?threads/sam-reiflers-i-ching-from-1974.29497/']"
      ]
     },
     "execution_count": 10,
     "metadata": {},
     "output_type": "execute_result"
    }
   ],
   "source": [
    "[elm.a['href'] for elm in s.find_all('div',{'class':\"structItem-title\"})]"
   ]
  },
  {
   "cell_type": "code",
   "execution_count": 11,
   "metadata": {},
   "outputs": [],
   "source": [
    "url = 'https://www.onlineclarity.co.uk/friends/index.php?threads/i-ching-diagrams.26253/'\n",
    "r = requests.get(url)\n",
    "s = BeautifulSoup(r.text, 'lxml')"
   ]
  },
  {
   "cell_type": "code",
   "execution_count": 28,
   "metadata": {},
   "outputs": [
    {
     "data": {
      "text/plain": [
       "'I have uploaded some Imperial China era  charts to the Contemplating I Ching website, including Hexagram Order circular chart, Fuxi (Shao Yong) Chart (circle + square), Palaces Chart (i.e., organized by bottom trigram), and a handy Nuclear Hexagrams chart (circular). Look on \"Resources\" page. Will add more as time goes by. Enjoy!BarbaraLast edited: Jul 7, 2018'"
      ]
     },
     "execution_count": 28,
     "metadata": {},
     "output_type": "execute_result"
    }
   ],
   "source": [
    "s.find_all('div',{'class':'message-content js-messageContent'})[0].text.replace('\\n','').replace('\\t','').replace('\\xa0','')"
   ]
  },
  {
   "cell_type": "code",
   "execution_count": 64,
   "metadata": {},
   "outputs": [],
   "source": [
    "def GET_DF_CONTENT(page):\n",
    "    url = 'https://www.onlineclarity.co.uk/friends/index.php?forums/i-ching-news.8/'+f'page-{page}'\n",
    "    r = requests.get(url)\n",
    "    s = BeautifulSoup(r.text, 'lxml')\n",
    "\n",
    "    link = [elm.a['href'] for elm in s.find_all('div',{'class':\"structItem-title\"})]\n",
    "    content = []\n",
    "\n",
    "    for l in link:\n",
    "        url = 'https://www.onlineclarity.co.uk' + l\n",
    "        R = requests.get(url)\n",
    "        S = BeautifulSoup(R.text, 'lxml')\n",
    "        c = S.find('div',{'class':'message-content js-messageContent'}).text.replace('\\n','').replace('\\t','').replace('\\xa0','')\n",
    "        content.append(c)\n",
    "    return content"
   ]
  },
  {
   "cell_type": "code",
   "execution_count": 65,
   "metadata": {},
   "outputs": [],
   "source": [
    "DF = []\n",
    "for p in range(1,25):\n",
    "    DF.extend(GET_DF_CONTENT(p))"
   ]
  },
  {
   "cell_type": "code",
   "execution_count": 66,
   "metadata": {},
   "outputs": [],
   "source": [
    "df = pd.DataFrame({'content':DF})"
   ]
  },
  {
   "cell_type": "code",
   "execution_count": 67,
   "metadata": {},
   "outputs": [],
   "source": [
    "df.to_csv('content.csv')"
   ]
  },
  {
   "cell_type": "code",
   "execution_count": 2,
   "metadata": {},
   "outputs": [],
   "source": [
    "df = pd.read_csv('content.csv')"
   ]
  },
  {
   "cell_type": "code",
   "execution_count": 3,
   "metadata": {},
   "outputs": [
    {
     "data": {
      "text/html": [
       "<div>\n",
       "<style scoped>\n",
       "    .dataframe tbody tr th:only-of-type {\n",
       "        vertical-align: middle;\n",
       "    }\n",
       "\n",
       "    .dataframe tbody tr th {\n",
       "        vertical-align: top;\n",
       "    }\n",
       "\n",
       "    .dataframe thead th {\n",
       "        text-align: right;\n",
       "    }\n",
       "</style>\n",
       "<table border=\"1\" class=\"dataframe\">\n",
       "  <thead>\n",
       "    <tr style=\"text-align: right;\">\n",
       "      <th></th>\n",
       "      <th>Unnamed: 0</th>\n",
       "      <th>content</th>\n",
       "    </tr>\n",
       "  </thead>\n",
       "  <tbody>\n",
       "    <tr>\n",
       "      <th>0</th>\n",
       "      <td>0</td>\n",
       "      <td>Update for 2021Things may be getting back to '...</td>\n",
       "    </tr>\n",
       "    <tr>\n",
       "      <th>1</th>\n",
       "      <td>1</td>\n",
       "      <td>I have uploaded some Imperial China era  chart...</td>\n",
       "    </tr>\n",
       "    <tr>\n",
       "      <th>2</th>\n",
       "      <td>2</td>\n",
       "      <td>Denis Mair has very generously given permissio...</td>\n",
       "    </tr>\n",
       "    <tr>\n",
       "      <th>3</th>\n",
       "      <td>3</td>\n",
       "      <td>Dear all,At last, here is something I promised...</td>\n",
       "    </tr>\n",
       "    <tr>\n",
       "      <th>4</th>\n",
       "      <td>4</td>\n",
       "      <td>Greetings All,    I have  posted a complete ex...</td>\n",
       "    </tr>\n",
       "  </tbody>\n",
       "</table>\n",
       "</div>"
      ],
      "text/plain": [
       "   Unnamed: 0                                            content\n",
       "0           0  Update for 2021Things may be getting back to '...\n",
       "1           1  I have uploaded some Imperial China era  chart...\n",
       "2           2  Denis Mair has very generously given permissio...\n",
       "3           3  Dear all,At last, here is something I promised...\n",
       "4           4  Greetings All,    I have  posted a complete ex..."
      ]
     },
     "execution_count": 3,
     "metadata": {},
     "output_type": "execute_result"
    }
   ],
   "source": [
    "df.head()"
   ]
  },
  {
   "cell_type": "code",
   "execution_count": 4,
   "metadata": {},
   "outputs": [],
   "source": [
    "Df = pd.read_csv('I_CHING.csv')"
   ]
  },
  {
   "cell_type": "code",
   "execution_count": 8,
   "metadata": {},
   "outputs": [
    {
     "data": {
      "text/plain": [
       "True"
      ]
     },
     "execution_count": 8,
     "metadata": {},
     "output_type": "execute_result"
    }
   ],
   "source": [
    "Df.shape[0] == df.shape[0]"
   ]
  },
  {
   "cell_type": "code",
   "execution_count": 14,
   "metadata": {},
   "outputs": [],
   "source": [
    "Df['Content'] = df['content']"
   ]
  },
  {
   "cell_type": "code",
   "execution_count": 19,
   "metadata": {},
   "outputs": [],
   "source": [
    "DF = Df.drop(['Unnamed: 0'],axis=1)"
   ]
  },
  {
   "cell_type": "code",
   "execution_count": 20,
   "metadata": {},
   "outputs": [],
   "source": [
    "DF.to_csv('I_CHING_CONTENT.csv')"
   ]
  },
  {
   "cell_type": "code",
   "execution_count": null,
   "metadata": {},
   "outputs": [],
   "source": []
  }
 ],
 "metadata": {
  "kernelspec": {
   "display_name": "Python 3",
   "language": "python",
   "name": "python3"
  },
  "language_info": {
   "codemirror_mode": {
    "name": "ipython",
    "version": 3
   },
   "file_extension": ".py",
   "mimetype": "text/x-python",
   "name": "python",
   "nbconvert_exporter": "python",
   "pygments_lexer": "ipython3",
   "version": "3.7.4"
  }
 },
 "nbformat": 4,
 "nbformat_minor": 4
}
